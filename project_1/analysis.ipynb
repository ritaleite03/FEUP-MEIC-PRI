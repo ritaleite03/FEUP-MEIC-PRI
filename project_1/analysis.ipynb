{
 "cells": [
  {
   "cell_type": "code",
   "execution_count": 94,
   "metadata": {},
   "outputs": [],
   "source": [
    "import pandas as pd\n",
    "import matplotlib.pyplot as plt\n",
    "import pandas as pd\n",
    "import matplotlib.pyplot as plt\n",
    "import json\n",
    "import matplotlib.pyplot as plt\n",
    "import seaborn as sns\n",
    "\n",
    "data = pd.read_json('data/data.json')\n",
    "dataWIKIPEDIA = pd.read_json('data/wikipedia/wikipedia.json')\n",
    "dataWIKIDaTA = pd.read_json('data/wikidata/wikidata.json')"
   ]
  },
  {
   "cell_type": "markdown",
   "metadata": {},
   "source": [
    "1 - Percentage of missing values"
   ]
  },
  {
   "cell_type": "code",
   "execution_count": null,
   "metadata": {},
   "outputs": [],
   "source": [
    "missing_percentage = data.isnull().mean() * 100\n",
    "print(missing_percentage.round(2).sort_values())"
   ]
  },
  {
   "cell_type": "code",
   "execution_count": null,
   "metadata": {},
   "outputs": [],
   "source": [
    "missing_percentage = data.isnull().mean() * 100\n",
    "missing_percentage = missing_percentage.round(2).sort_values(ascending=False)\n",
    "\n",
    "plt.figure(figsize=(10, 6))\n",
    "missing_percentage.plot(kind='bar')\n",
    "plt.title('Percentage of missing values per feature', fontsize=14)\n",
    "plt.xlabel('Features', fontsize=12)\n",
    "plt.ylabel('Percentage of missing values', fontsize=12)\n",
    "plt.xticks(rotation=90)\n",
    "plt.tight_layout()\n",
    "plt.show()"
   ]
  },
  {
   "cell_type": "markdown",
   "metadata": {},
   "source": [
    "2 - Mean words per feature"
   ]
  },
  {
   "cell_type": "code",
   "execution_count": null,
   "metadata": {},
   "outputs": [],
   "source": [
    "def count_words(x):\n",
    "    if isinstance(x, list):\n",
    "        return sum(count_words(item) for item in x)\n",
    "    elif isinstance(x, dict):\n",
    "        return sum(count_words(v) for v in x.values())\n",
    "    else:\n",
    "        return len(str(x).split())\n",
    "\n",
    "number_words = data.drop(columns=['Total Revisions', 'Last Revision Date']).apply(\n",
    "    lambda col: col.dropna().apply(count_words)\n",
    ")\n",
    "\n",
    "number_words_mean = number_words.apply(lambda col: col.dropna().mean())\n",
    "number_words_sorted = number_words[number_words_mean.sort_values(ascending=False).index]\n",
    "\n",
    "plt.figure(figsize=(12, 8))\n",
    "sns.boxplot(data=number_words_sorted, showfliers=False)\n",
    "plt.title('Number of words per feature', fontsize=14)\n",
    "plt.xlabel('Features', fontsize=12)\n",
    "plt.ylabel('Number of words', fontsize=12)\n",
    "plt.xticks(rotation=90)\n",
    "plt.tight_layout()\n",
    "plt.show()\n"
   ]
  },
  {
   "cell_type": "markdown",
   "metadata": {},
   "source": [
    "3 -  Frquency of Values in Total Revisions"
   ]
  },
  {
   "cell_type": "code",
   "execution_count": null,
   "metadata": {},
   "outputs": [],
   "source": [
    "import json\n",
    "\n",
    "with open('data/data.json', encoding='utf-8') as f:\n",
    "    data = json.load(f)\n",
    "\n",
    "total_revisions = []\n",
    "\n",
    "for disease_entry in data:\n",
    "    if \"Total Revisions\" in disease_entry and isinstance(disease_entry[\"Total Revisions\"], (int, float)):\n",
    "        total_revisions.append(disease_entry[\"Total Revisions\"])\n",
    "\n",
    "if total_revisions:\n",
    "    total_revisions_series = pd.Series(total_revisions)\n",
    "    bins = range(0, int(total_revisions_series.max()) + 25, 25)\n",
    "    binned_revisions = pd.cut(total_revisions_series, bins=bins)\n",
    "    value_counts = binned_revisions.value_counts().sort_index()\n",
    "\n",
    "    plt.figure(figsize=(10, 6))\n",
    "    value_counts.plot(kind='bar')\n",
    "    plt.title(\"Frequency of Values in Total Revisions\", fontsize=10, y=0.91)\n",
    "    plt.xlabel(\"Total Revisions\")\n",
    "    plt.ylabel(\"Frequency\")\n",
    "    plt.xticks(rotation=45)\n",
    "    plt.tight_layout()\n",
    "    plt.show()\n",
    "else:\n",
    "    print(\"No valid 'Total Revisions' data available for plotting.\")\n"
   ]
  },
  {
   "cell_type": "markdown",
   "metadata": {},
   "source": [
    "4 - Percentage of Treatments per Specialty (Capped 100% Stacked Bar Chart)"
   ]
  },
  {
   "cell_type": "code",
   "execution_count": null,
   "metadata": {},
   "outputs": [],
   "source": [
    "import pandas as pd\n",
    "import matplotlib.pyplot as plt\n",
    "import json\n",
    "\n",
    "with open('data/data.json', encoding='utf-8') as f:\n",
    "    data = json.load(f)\n",
    "\n",
    "rows = []\n",
    "for disease_entry in data:\n",
    "    disease = disease_entry.get(\"id\", \"Unknown Disease\")\n",
    "    specialties = disease_entry.get(\"Specialty\", [])\n",
    "    treatments = disease_entry.get(\"Treatments List\", [])    \n",
    "    if not specialties or not treatments:\n",
    "        continue\n",
    "    for treatment in treatments:\n",
    "        for specialty in specialties:\n",
    "            rows.append({'Disease': disease, 'Treatment': treatment, 'Specialty': specialty})\n",
    "\n",
    "df = pd.DataFrame(rows)\n",
    "treatment_counts = df.groupby(['Specialty', 'Treatment']).size().unstack(fill_value=0)\n",
    "\n",
    "max_specialties = 5\n",
    "max_treatments = 10\n",
    "\n",
    "top_specialties = treatment_counts.sum(axis=1).nlargest(max_specialties).index\n",
    "valid_specialties = treatment_counts.index.intersection(top_specialties)\n",
    "top_treatments = treatment_counts.loc[valid_specialties].sum(axis=0).nlargest(max_treatments).index\n",
    "treatment_counts_capped = treatment_counts.loc[valid_specialties, top_treatments]\n",
    "if not treatment_counts_capped.empty:\n",
    "    treatment_counts_percentage = treatment_counts_capped.div(treatment_counts_capped.sum(axis=1), axis=0) * 100\n",
    "    treatment_counts_percentage.plot(kind='bar', stacked=True, figsize=(10, 6), colormap='tab10')\n",
    "    plt.title('Percentage of Treatments per Specialty (Capped 100% Stacked Bar Chart)')\n",
    "    plt.xlabel('Specialty')\n",
    "    plt.ylabel('Percentage of Treatments (%)')\n",
    "    plt.xticks(rotation=360)\n",
    "    plt.grid(axis='y')\n",
    "    plt.legend(title='Treatments')\n",
    "    plt.tight_layout()\n",
    "    plt.show()\n",
    "else:\n",
    "    print(\"No valid specialties or treatments available for plotting.\")"
   ]
  }
 ],
 "metadata": {
  "kernelspec": {
   "display_name": "Python 3",
   "language": "python",
   "name": "python3"
  },
  "language_info": {
   "codemirror_mode": {
    "name": "ipython",
    "version": 3
   },
   "file_extension": ".py",
   "mimetype": "text/x-python",
   "name": "python",
   "nbconvert_exporter": "python",
   "pygments_lexer": "ipython3",
   "version": "3.12.6"
  }
 },
 "nbformat": 4,
 "nbformat_minor": 2
}
